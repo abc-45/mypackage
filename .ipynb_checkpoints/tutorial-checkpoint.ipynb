{
 "cells": [
  {
   "cell_type": "markdown",
   "id": "28e2fc61-34cf-4cc8-87e4-f03f02d33c02",
   "metadata": {},
   "source": [
    "## Tutorial for `mypackage`"
   ]
  },
  {
   "cell_type": "code",
   "execution_count": null,
   "id": "b94f4cc6-29b6-44a5-baaa-380427dfa1ce",
   "metadata": {},
   "outputs": [],
   "source": []
  }
 ],
 "metadata": {
  "kernelspec": {
   "display_name": "Python 3 (ipykernel)",
   "language": "python",
   "name": "python3"
  },
  "language_info": {
   "codemirror_mode": {
    "name": "ipython",
    "version": 3
   },
   "file_extension": ".py",
   "mimetype": "text/x-python",
   "name": "python",
   "nbconvert_exporter": "python",
   "pygments_lexer": "ipython3",
   "version": "3.12.9"
  }
 },
 "nbformat": 4,
 "nbformat_minor": 5
}
